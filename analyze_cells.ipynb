{
 "cells": [
  {
   "cell_type": "code",
   "execution_count": null,
   "metadata": {},
   "outputs": [],
   "source": [
    "import torch\n",
    "import matplotlib.pyplot as plt\n",
    "import numpy as np\n",
    "import glob "
   ]
  },
  {
   "cell_type": "code",
   "execution_count": null,
   "metadata": {},
   "outputs": [],
   "source": [
    "control = glob.glob('/media/chris/Padlock_3/Dose-adjusted injection data/control/LiterXXX/*.trch')\n",
    "\n",
    "control = torch.load(control[0])\n",
    "control_gfp = []\n",
    "control_myo = []\n",
    "\n",
    "for c in control:\n",
    "    control_gfp.append(c.gfp.item() * 0.5 + 0.5)\n",
    "    control_myo.append(c.myo7a.item() * 0.5 + 0.5)\n",
    "    gfp = np.array(control_gfp)\n",
    "    myo = np.array(control_myo)\n",
    "    gfp = gfp[myo > 0.1]\n",
    "    myo = myo[myo > 0.1]"
   ]
  },
  {
   "cell_type": "code",
   "execution_count": null,
   "metadata": {},
   "outputs": [],
   "source": []
  },
  {
   "cell_type": "code",
   "execution_count": null,
   "metadata": {},
   "outputs": [],
   "source": [
    "cell_list = []\n",
    "name = []\n",
    "files = glob.glob('/media/chris/Padlock_3/Dose-adjusted injection data/**/**/*.trch')\n",
    "control = glob.glob('/media/chris/Padlock_3/Dose-adjusted injection data/control/LiterXXX/*.trch')\n",
    "\n",
    "control = torch.load(control[0])\n",
    "control_gfp = []\n",
    "control_myo = []\n",
    "\n",
    "for c in control:\n",
    "    control_gfp.append(c.gfp.item() * 0.5 + 0.5)\n",
    "    control_myo.append(c.myo7a.item() * 0.5 + 0.5)\n",
    "    gfp = np.array(control_gfp)\n",
    "    myo = np.array(control_myo)\n",
    "    gfp = gfp[myo > 0.1]\n",
    "    myo = myo[myo > 0.1]\n",
    "control = np.copy(gfp)\n",
    "c_mean = control.mean()\n",
    "#c_median = control.median()\n",
    "c_max = control.max()\n",
    "#files = glob.glob('data/test/shit/*.trch')\n",
    "for f in files:\n",
    "    print(f)\n",
    "    cells = torch.load(f)\n",
    "    gfp = []\n",
    "    myo = []\n",
    "    for c in cells:\n",
    "        gfp.append(c.gfp.item() * 0.5 + 0.5)\n",
    "        myo.append(c.myo7a.item() * 0.5 + 0.5)\n",
    "    gfp = np.array(gfp)\n",
    "    myo = np.array(myo)\n",
    "    gfp = gfp[myo > 0.1]\n",
    "    myo = myo[myo > 0.1]\n",
    "    gfp = gfp[gfp > c_max]\n",
    "    plt.hist(gfp,bins=50)\n",
    "    cell_list.append(gfp)\n",
    "    \n",
    "plt.show()"
   ]
  },
  {
   "cell_type": "code",
   "execution_count": null,
   "metadata": {},
   "outputs": [],
   "source": [
    "    gfp = gfp[myo > 0.1]\n",
    "    myo = myo[myo > 0.1]"
   ]
  },
  {
   "cell_type": "code",
   "execution_count": null,
   "metadata": {},
   "outputs": [],
   "source": [
    "labels = [' '] + ['CMV Eric'] * 5 + ['CMV Olga'] * 5 + ['Control'] + ['CMV 10'] * 2 + ['CMV 11'] * 4 + ['CMV 3 '] * 3 + ['CMV 4'] * 3\n",
    "    "
   ]
  },
  {
   "cell_type": "code",
   "execution_count": null,
   "metadata": {},
   "outputs": [],
   "source": [
    "plt.figure(figsize=(10,10))\n",
    "plt.boxplot(cell_list, f)\n",
    "plt.xticks(np.arange(0, len(files)+1), labels=labels,rotation='vertical')\n",
    "plt.xlabel('Promoter')\n",
    "plt.ylabel('Mean Cell GFP')\n",
    "plt.show()"
   ]
  },
  {
   "cell_type": "code",
   "execution_count": null,
   "metadata": {},
   "outputs": [],
   "source": []
  }
 ],
 "metadata": {
  "kernelspec": {
   "display_name": "Python 3",
   "language": "python",
   "name": "python3"
  },
  "language_info": {
   "codemirror_mode": {
    "name": "ipython",
    "version": 3
   },
   "file_extension": ".py",
   "mimetype": "text/x-python",
   "name": "python",
   "nbconvert_exporter": "python",
   "pygments_lexer": "ipython3",
   "version": "3.8.5"
  }
 },
 "nbformat": 4,
 "nbformat_minor": 1
}
