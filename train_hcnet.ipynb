{
 "cells": [
  {
   "cell_type": "code",
   "execution_count": null,
   "metadata": {},
   "outputs": [],
   "source": [
    "import src.dataloader\n",
    "import src.loss\n",
    "import src.transforms as t\n",
    "import src.functional\n",
    "from src.models.HCNet import HCNet\n",
    "from src.models.RDCNet import RDCNet\n",
    "from src.models.unet import Unet_Constructor as unet\n",
    "\n",
    "import torch\n",
    "import torch.nn\n",
    "from torch.utils.data import DataLoader\n",
    "\n",
    "import time\n",
    "import numpy as np\n",
    "import matplotlib.pyplot as plt\n",
    "import torchvision.transforms\n",
    "from torch.utils.tensorboard import SummaryWriter\n",
    "from scipy.ndimage.morphology import binary_fill_holes, binary_erosion, binary_dilation\n",
    "import skimage.io as io\n",
    "from importlib import reload  "
   ]
  },
  {
   "cell_type": "code",
   "execution_count": null,
   "metadata": {},
   "outputs": [],
   "source": [
    "reload(src.loss)"
   ]
  },
  {
   "cell_type": "code",
   "execution_count": null,
   "metadata": {},
   "outputs": [],
   "source": [
    "model = torch.jit.script(HCNet(in_channels=3, out_channels=4, complexity=15)).cuda()\n",
    "#model = RDCNet(in_channels=3, out_channels=4, complexity=15).train().cuda()\n",
    "\n",
    "#model.load_state_dict(torch.load('val_Dec30_1.hcnet2'))\n",
    "model.load_state_dict(torch.load('Jan15_1_background_reject.hcnet'))\n",
    "#model.load_state_dict(torch.load('Jan11_1.hcnet'))\n",
    "model.train()"
   ]
  },
  {
   "cell_type": "markdown",
   "metadata": {},
   "source": [
    "model = unet(image_dimensions=3,\n",
    "                 in_channels=3,\n",
    "                 out_channels=4,\n",
    "                 feature_sizes=[8,16],\n",
    "                 kernel=(3, 3, 2),\n",
    "                 upsample_kernel=(3, 3, 2),\n",
    "                 max_pool_kernel=(2, 2, 2),\n",
    "                 upsample_stride=2,\n",
    "                 dilation=1,\n",
    "                 groups=1,\n",
    "                 ).cuda().train()"
   ]
  },
  {
   "cell_type": "code",
   "execution_count": null,
   "metadata": {},
   "outputs": [],
   "source": [
    "reload(src.transforms)\n",
    "print('Loading Train...')\n",
    "transforms = torchvision.transforms.Compose([\n",
    "    t.random_affine(shear=(-15, 15), scale=(0.75, 1.5)),\n",
    "    t.nul_crop(rate=.65),\n",
    "    t.random_crop(shape=(256, 256, 16)),\n",
    "    t.elastic_deformation(grid_shape=(3, 3, 2), scale=1.2),\n",
    "    t.to_cuda(),    \n",
    "    t.random_h_flip(),\n",
    "    t.random_v_flip(),\n",
    "    t.gaussian_blur(rate=0.25),\n",
    "    t.adjust_brightness(range_brightness = (-0.05, 0.15)),\n",
    "    t.random_noise(gamma=0.2),\n",
    "])\n",
    "\n",
    "data = src.dataloader.dataset('./data/train', transforms=transforms, random_ind=True)\n",
    "dl = DataLoader(data, batch_size=1, shuffle=False, num_workers=0)\n",
    "print('Done')\n",
    "\n"
   ]
  },
  {
   "cell_type": "code",
   "execution_count": null,
   "metadata": {},
   "outputs": [],
   "source": [
    "transforms = torchvision.transforms.Compose([\n",
    "    t.random_affine(shear=(-15, 15), scale=(0.75, 1.5)),\n",
    "    t.random_crop(shape=(256, 256, 16)),\n",
    "    t.elastic_deformation(grid_shape=(3, 3, 2), scale=1.2),\n",
    "    t.to_cuda(),    \n",
    "    t.random_h_flip(),\n",
    "    t.random_v_flip(),\n",
    "    t.gaussian_blur(rate=0.25),\n",
    "    t.adjust_brightness(range_brightness = (-0.05, 0.15)),\n",
    "    t.random_noise(gamma=0.2),\n",
    "])\n",
    "nul_data = src.dataloader.nul_dataset('./data/background', transforms=transforms, random_ind=True)\n",
    "nd = DataLoader(data, batch_size=1, shuffle=False, num_workers=0)"
   ]
  },
  {
   "cell_type": "markdown",
   "metadata": {},
   "source": [
    "If the sigma is too low, basicall the network cannot influence distance cells. I.e. vectors can point any way they want, and because they dont have a center near them, they wont affect training. This in theory should be compensated by the prob map, but idk..."
   ]
  },
  {
   "cell_type": "code",
   "execution_count": null,
   "metadata": {
    "scrolled": false
   },
   "outputs": [],
   "source": [
    "print('Loading Val...')\n",
    "val_trans = torchvision.transforms.Compose([\n",
    "    t.nul_crop(1),\n",
    "    t.random_crop(shape=(256, 256, 26)),\n",
    "    t.to_cuda(),    \n",
    "])\n",
    "val = src.dataloader.dataset('/media/DataStorage/Dropbox (Partners HealthCare)/HairCellInstance/data/validate', transforms=val_trans)\n",
    "val = DataLoader(val, batch_size=1, shuffle=False, num_workers=0)\n",
    "print('Done')"
   ]
  },
  {
   "cell_type": "code",
   "execution_count": null,
   "metadata": {},
   "outputs": [],
   "source": [
    "lr = 1e-4\n",
    "gamma = 1#0.993\n",
    "wd = .001\n",
    "#sigma= 0.1 \n",
    "sigma = lambda e: torch.tensor([0.002]) #+ 0.02 * .99**e])\n",
    "iterations=5"
   ]
  },
  {
   "cell_type": "code",
   "execution_count": null,
   "metadata": {},
   "outputs": [],
   "source": [
    "sigma = lambda e: torch.tensor([0.002]) #+ 0.02 * .99**e])"
   ]
  },
  {
   "cell_type": "code",
   "execution_count": null,
   "metadata": {},
   "outputs": [],
   "source": [
    "try:\n",
    "    if e > 0:\n",
    "        pass\n",
    "except:\n",
    "    epochs = 500\n",
    "    e = -1"
   ]
  },
  {
   "cell_type": "code",
   "execution_count": null,
   "metadata": {},
   "outputs": [],
   "source": [
    "optimizer = torch.optim.Adam(model.parameters(), lr=lr, weight_decay = wd)\n",
    "loss_fun = src.loss.tversky_loss()\n",
    "nul_loss_fun = src.loss.l1_loss()"
   ]
  },
  {
   "cell_type": "code",
   "execution_count": null,
   "metadata": {},
   "outputs": [],
   "source": [
    "optimizer.weight_decay = wd\n",
    "optimizer.lr = lr\n",
    "scheduler = torch.optim.lr_scheduler.MultiStepLR(optimizer, milestones=[150, 300], gamma=0.1)"
   ]
  },
  {
   "cell_type": "code",
   "execution_count": null,
   "metadata": {},
   "outputs": [],
   "source": [
    "try:\n",
    "    save_file = 'Feb15_1.hcnet'\n",
    "    writer\n",
    "    \n",
    "except:\n",
    "    writer = SummaryWriter()\n",
    "    best_train_loss = 2\n",
    "    best_val_loss = 2\n"
   ]
  },
  {
   "cell_type": "code",
   "execution_count": null,
   "metadata": {},
   "outputs": [],
   "source": [
    "model.train()\n",
    "print('')"
   ]
  },
  {
   "cell_type": "markdown",
   "metadata": {},
   "source": [
    "PROBLEM: model sees sgn's and thinks its cells\n",
    "\n",
    "\n",
    "SOLUTION:\n",
    "give it random SGN z_stacks with no cells in it. Let the model guess centroids with src.functional.estimate_centroids. Create zero matrix of same size. Run backprop against this. See if it works. "
   ]
  },
  {
   "cell_type": "code",
   "execution_count": null,
   "metadata": {
    "scrolled": false
   },
   "outputs": [],
   "source": [
    "#sigma = torch.tensor([0.01]).cuda()  \n",
    "while True:\n",
    "    e += 1\n",
    "    epoch_loss = []\n",
    "    for data_dict in dl:\n",
    "        image = data_dict['image']\n",
    "        image = (image - 0.5) / 0.5\n",
    "        mask = data_dict['masks'] > 0.5\n",
    "        centroids = data_dict['centroids']\n",
    "\n",
    "        if centroids.shape[1] == 0:\n",
    "            continue\n",
    "\n",
    "        optimizer.zero_grad()\n",
    "\n",
    "        out = model(image.cuda())#, iterations)\n",
    "           \n",
    "            \n",
    "        prob_map = torch.sigmoid(out[:, -1, ...]).unsqueeze(1)\n",
    "        out = out[:, 0:3:1, ...]\n",
    "        out = src.functional.vector_to_embedding(out)\n",
    "        out = src.functional.embedding_to_probability(out, centroids.cuda(), sigma(e).cuda())\n",
    "        loss = 3*loss_fun(out, mask.cuda(),alpha=0.5, beta=0.5) \\\n",
    "               + loss_fun(prob_map, mask.cuda().sum(1).unsqueeze(1), alpha=1, beta=1)\n",
    "\n",
    "        if torch.any(torch.isnan(out)):\n",
    "            continue\n",
    "            \n",
    "        loss.backward()\n",
    "        optimizer.step()\n",
    "\n",
    "        epoch_loss.append(loss.detach().cpu().item())\n",
    "    \n",
    "#     nul_loss = []\n",
    "#     for nul_dict in nd: # This is the dataloader specically for nul datasets\n",
    "#         \"\"\"\n",
    "#         Nul dict training step\n",
    "        \n",
    "#         Predict an outcome of an image without any hair cells in the image\n",
    "#         Guess centroids - they'll all be wrong if any\n",
    "#         use loss function to do backwards pass - train network to ignore any of these random cells hopefully\n",
    "#         \"\"\"\n",
    "#         image = nul_dict['image']\n",
    "#         image = (image - 0.5) / 0.5\n",
    "#         mask = nul_dict['masks'] > 0.5\n",
    "        \n",
    "#         optimizer.zero_grad()\n",
    "        \n",
    "#         # Predict an output - if there is anything it will be wrong\n",
    "#         out = model(image.cuda())#,iterations)\n",
    "#         prob_map = torch.sigmoid(out[:, -1, ...]).unsqueeze(1)\n",
    "#         out = out[:, 0:3:1, ...]\n",
    "#         embed = src.functional.vector_to_embedding(out)\n",
    "        \n",
    "#         try:\n",
    "#             centroids = src.functional.estimate_centroids(embed, 1, 50)\n",
    "#         except ValueError: \n",
    "#             continue\n",
    "            \n",
    "#         del embed\n",
    "        \n",
    "#         if centroids.shape[0] == 0:\n",
    "#             continue\n",
    "            \n",
    "#         out = src.functional.vector_to_embedding(out)\n",
    "#         out = src.functional.embedding_to_probability(out, centroids.cuda(), sigma(e).cuda())\n",
    "        \n",
    "#         # Loss function needs to handle no positive labels\n",
    "#         loss = nul_loss_fun(out, torch.zeros(out.shape).cuda()) \\\n",
    "#         + nul_loss_fun(prob_map, torch.zeros(prob_map.shape).cuda())\n",
    "        \n",
    "#         nul_loss.append(float(out.shape[1]))\n",
    "#         loss.backward()\n",
    "#         optimizer.step()\n",
    "                     \n",
    "#     writer.add_scalar('Loss/nul', torch.mean(torch.tensor(nul_loss)).item(), e)\n",
    "    writer.add_scalar('Loss/train', torch.mean(torch.tensor(epoch_loss)).item(), e)\n",
    "    writer.add_scalar('AdjustedLoss/train', torch.mean(torch.tensor(epoch_loss))*sigma(e), e)\n",
    "    writer.add_scalar('Hyperparam/lr',scheduler.get_lr()[0],e)\n",
    "    writer.add_scalar('Hyperparam/weight_decay',wd,e)\n",
    "    writer.add_scalar('Hyperparam/sigma', sigma(e).item(),e)\n",
    "\n",
    "    scheduler.step()\n",
    "    data.step()\n",
    "    nul_data.step()\n",
    "        \n",
    "    if e % 10 == 0:\n",
    "        del data_dict\n",
    "        \n",
    "        with torch.no_grad():\n",
    "            val_loss = []\n",
    "            for val_dict in val:\n",
    "                image = val_dict['image'].sub(0.5).div(0.5)\n",
    "                mask = val_dict['masks'] > 0.5\n",
    "                centroids = val_dict['centroids']\n",
    "\n",
    "                out = model(image.cuda())#, iterations)\n",
    "\n",
    "                prob_map = torch.sigmoid(out[:, -1, ...]).unsqueeze(1)\n",
    "                out = out[:, 0:3:1, ...]\n",
    "                out = src.functional.vector_to_embedding(out)\n",
    "                out = src.functional.embedding_to_probability(out, centroids.cuda(), sigma(e).cuda())\n",
    "                loss = 3*loss_fun(out, mask.cuda(),alpha=0.5, beta=0.5) \\\n",
    "                       + loss_fun(prob_map, mask.cuda().sum(1).unsqueeze(1), alpha=1, beta=1)\n",
    "\n",
    "                val_loss.append(loss.item())\n",
    "                \n",
    "        val_loss = torch.mean(torch.tensor(val_loss)).item()\n",
    "\n",
    "        writer.add_scalar('Loss/validate', val_loss, e)\n",
    "\n",
    "\n",
    "        torch.save(model.state_dict(), 'train_' + save_file)\n"
   ]
  },
  {
   "cell_type": "code",
   "execution_count": null,
   "metadata": {},
   "outputs": [],
   "source": [
    "plt.imshow(data_dict['masks'][0,:,:,:,:].sum(0).sum(-1).cpu())\n",
    "plt.plot(data_dict['centroids'][0,:,1].cpu(), data_dict['centroids'][0,:,0].cpu(), 'bo')\n",
    "plt.show()"
   ]
  },
  {
   "cell_type": "code",
   "execution_count": null,
   "metadata": {},
   "outputs": [],
   "source": [
    "image.max()"
   ]
  },
  {
   "cell_type": "code",
   "execution_count": null,
   "metadata": {},
   "outputs": [],
   "source": [
    "save_name = 'Jan15_2.hcnet'\n",
    "torch.save(model.state_dict(), save_name)"
   ]
  },
  {
   "cell_type": "code",
   "execution_count": null,
   "metadata": {},
   "outputs": [],
   "source": [
    "model.train()\n",
    "s = torch.tensor([0.002]).cuda()  \n",
    "with torch.no_grad():\n",
    "    for data_dict in val:\n",
    "        image = data_dict['image']\n",
    "        image = (image - 0.5) / 0.5\n",
    "        mask = data_dict['masks'] > 0.5\n",
    "        \n",
    "        centroids = data_dict['centroids']\n",
    "        plt.imshow(data_dict['masks'][0,:,:,:,:].sum(0).sum(-1).cpu())\n",
    "        plt.plot(data_dict['centroids'][0,:,1].cpu(), data_dict['centroids'][0,:,0].cpu(), 'bo')\n",
    "        plt.show()\n",
    "        \n",
    "        out = model(image.cuda(),iterations)\n",
    "        prob_map = torch.sigmoid(out[:, -1, ...]).unsqueeze(1)\n",
    "        out = out[:, 0:3:1, ...]\n",
    "        out = src.functional.vector_to_embedding(out)\n",
    "        out = src.functional.embedding_to_probability(out, centroids.cuda(), s)\n",
    "        loss = 3*loss_fun(out, mask.cuda(),alpha=0.5, beta=0.5) \\\n",
    "               + loss_fun(prob_map, mask.cuda().sum(1).unsqueeze(1), alpha=1, beta=1)\n",
    "\n",
    "        plt.imshow(data_dict['masks'][0,:,:,:,:].sum(0).sum(-1).cpu())\n",
    "        plt.plot(data_dict['centroids'][0,:,1].cpu(), data_dict['centroids'][0,:,0].cpu(), 'bo')\n",
    "        plt.show()\n",
    "        \n",
    "        break\n",
    "        \n",
    "model.train()\n",
    "print(' ')\n",
    "test = out.clone()\n",
    "\n",
    "print(loss)\n",
    "\n",
    "value, ind = out.max(1)\n",
    "ind[prob_map[:,0,...] < 0.5]=0\n",
    "#for i in range(render.shape[0]):\n",
    "#    render[i,:,:,:] = binary_dilation(binary_fill_holes(render[i,:,:,:]))\n",
    "ind = ind.cpu().detach().squeeze(0).float().numpy().transpose((2,1,0))\n",
    "io.imsave('bigtest.tif', ind)\n",
    "ind.min()\n",
    "\n",
    "\n",
    "for data_dict in val:\n",
    "    plt.imshow(data_dict['masks'][0,:,:,:,:].sum(0).sum(-1).cpu())\n",
    "    plt.plot(data_dict['centroids'][0,:,1].cpu(), data_dict['centroids'][0,:,0].cpu(), 'bo')\n",
    "    plt.show()\n",
    "    "
   ]
  },
  {
   "cell_type": "code",
   "execution_count": null,
   "metadata": {},
   "outputs": [],
   "source": [
    "del image, out, prob_map,ind, value, embed"
   ]
  },
  {
   "cell_type": "markdown",
   "metadata": {},
   "source": [
    "Naieve Test"
   ]
  },
  {
   "cell_type": "code",
   "execution_count": null,
   "metadata": {
    "scrolled": false
   },
   "outputs": [],
   "source": [
    "s = torch.tensor([0.016]).cuda()  \n",
    "model.train()\n",
    "for m in model.modules():\n",
    "    if isinstance(m, torch.nn.BatchNorm3d):\n",
    "        m.eval()\n",
    "with torch.no_grad():\n",
    "    image = io.imread('/media/DataStorage/Dropbox (Partners HealthCare)/'+\\\n",
    "                      'HairCellInstance/data/augment_train/Oct 25 AAV2-PHP.B-CMV Olga L17 m3 G200 La0.25.lif - TileScan 1.tif')\n",
    "    image = torch.from_numpy(image[..., [0, 2, 3]] / 2 ** 16).unsqueeze(0).float()\n",
    "    image = image.transpose(1, 3).transpose(0, -1).squeeze().unsqueeze(0).sub(0.5).div(0.5).cuda()\n",
    "\n",
    "\n",
    "    out = model(image.cuda())#, 5)\n",
    "    print(image.shape, out.shape)\n",
    "    prob_map = torch.sigmoid(out[:, -1, ...]).unsqueeze(1)\n",
    "\n",
    "    out = out[:, 0:3:1, ...]\n",
    "    embed = src.functional.vector_to_embedding(out)\n",
    "    x = embed.detach().cpu().numpy()[0,0,...].flatten()\n",
    "    y = embed.detach().cpu().numpy()[0,1,...].flatten()\n",
    "    plt.figure(figsize=(15,15))\n",
    "    plt.hist2d(x,y,bins=(image.shape[2], image.shape[3]), range=((0,1), (0,0.5)))\n",
    "    plt.show()\n",
    "    \n",
    "    for i in range(3):\n",
    "        embed[:,i,...][prob_map.squeeze(0) < 0.5] = -10\n",
    "    \n",
    "    centroids = src.functional.estimate_centroids(embed, 2.5, 150)\n",
    "    embed = src.functional.vector_to_embedding(out)\n",
    "    out = src.functional.embedding_to_probability(embed, centroids.cuda(), s)\n",
    "\n",
    "\n",
    "\n",
    "model.train()\n",
    "value, ind = out.max(1)\n",
    "#ind[prob_map[:,0,...] < 0.5]=0\n",
    "\n",
    "x = embed.detach().cpu().numpy()[0,0,...].flatten()\n",
    "y = embed.detach().cpu().numpy()[0,1,...].flatten()\n",
    "plt.figure(figsize=(15,15))\n",
    "plt.hist2d(x,y,bins=(image.shape[2], image.shape[3]), range=((0,1), (0,0.5)))\n",
    "plt.plot(centroids[0,:,0].detach().cpu().numpy(), centroids[0,:,1].detach().cpu().numpy(), 'ro')\n",
    "# plt.plot(data_dict['centroids'][0,:,0].cpu(), data_dict['centroids'][0,:,1].cpu(), 'bo', alpha=0.5)\n",
    "plt.show()\n",
    "\n",
    "print(image.shape)\n",
    "plt.imshow(prob_map[0,0,:,:,13].gt(0.95).cpu().numpy())\n",
    "plt.show()\n",
    "\n",
    "print(centroids.shape[1], ' cells predicted')\n",
    "print(prob_map.max())\n",
    "\n",
    "value, ind = out.max(1)\n",
    "ind[value < 0.25] = 0\n",
    "ind[prob_map.squeeze(1)<0.5]=0\n",
    "correction_matrix = binary_dilation(binary_erosion(ind.cpu().numpy()))\n",
    "ind[np.logical_not(binary_dilation)] = 0\n",
    "io.imsave('naieve_test.tif', ind.cpu().detach().squeeze(0).float().numpy().transpose((2,1,0)))\n",
    "ind.min()\n",
    "ind.shape\n",
    "del image, out, embed, centroids\n"
   ]
  },
  {
   "cell_type": "code",
   "execution_count": null,
   "metadata": {},
   "outputs": [],
   "source": [
    "prob_map = prob_map > 0.95"
   ]
  },
  {
   "cell_type": "code",
   "execution_count": null,
   "metadata": {},
   "outputs": [],
   "source": [
    "plt.figure(figsize=(10,10))\n",
    "plt.imshow(prob_map.squeeze(0).squeeze(0).sum(-1).cpu().numpy())\n",
    "plt.show()"
   ]
  },
  {
   "cell_type": "code",
   "execution_count": null,
   "metadata": {},
   "outputs": [],
   "source": []
  }
 ],
 "metadata": {
  "kernelspec": {
   "display_name": "Python 3",
   "language": "python",
   "name": "python3"
  },
  "language_info": {
   "codemirror_mode": {
    "name": "ipython",
    "version": 3
   },
   "file_extension": ".py",
   "mimetype": "text/x-python",
   "name": "python",
   "nbconvert_exporter": "python",
   "pygments_lexer": "ipython3",
   "version": "3.8.5"
  }
 },
 "nbformat": 4,
 "nbformat_minor": 4
}
