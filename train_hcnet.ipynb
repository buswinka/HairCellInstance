{
 "cells": [
  {
   "cell_type": "code",
   "execution_count": 1,
   "metadata": {},
   "outputs": [],
   "source": [
    "import src.dataloader\n",
    "import src.loss\n",
    "import src.transforms as t\n",
    "import src.functional\n",
    "from src.models.HCNet import HCNet\n",
    "\n",
    "import torch\n",
    "import torch.nn\n",
    "from torch.utils.data import DataLoader\n",
    "\n",
    "import time\n",
    "import numpy as np\n",
    "import matplotlib.pyplot as plt\n",
    "import torchvision.transforms\n",
    "from torch.utils.tensorboard import SummaryWriter\n",
    "from scipy.ndimage.morphology import binary_fill_holes, binary_erosion, binary_dilation\n",
    "import skimage.io as io"
   ]
  },
  {
   "cell_type": "code",
   "execution_count": 2,
   "metadata": {
    "scrolled": true
   },
   "outputs": [
    {
     "name": "stdout",
     "output_type": "stream",
     "text": [
      "\n"
     ]
    }
   ],
   "source": [
    "model = torch.jit.script(HCNet(in_channels=3, out_channels=4, complexity=30)).cuda()\n",
    "model.train()\n",
    "#model.load_state_dict(torch.load('/media/DataStorage/Dropbox (Partners HealthCare)/HairCellInstance/Dec1_2020_3.hcnet'))\n",
    "print('')"
   ]
  },
  {
   "cell_type": "code",
   "execution_count": 3,
   "metadata": {},
   "outputs": [
    {
     "name": "stdout",
     "output_type": "stream",
     "text": [
      "Loading Train...\n",
      "Done\n"
     ]
    }
   ],
   "source": [
    "print('Loading Train...')\n",
    "transforms = torchvision.transforms.Compose([\n",
    "    t.nul_crop(),\n",
    "    t.random_crop(shape=(256, 256, 23)),\n",
    "    t.elastic_deformation(grid_shape=(3, 3, 2), scale=1.5),\n",
    "    t.to_cuda(),\n",
    "    t.random_h_flip(),\n",
    "    t.random_v_flip(),\n",
    "    t.random_affine(shear=(-15, 15)),\n",
    "    t.adjust_brightness(range_brightness = (-0.2, 0.2)),\n",
    "    t.adjust_gamma(),\n",
    "    t.adjust_centroids(),\n",
    "])\n",
    "data = src.dataloader.dataset('/media/DataStorage/Dropbox (Partners HealthCare)/HairCellInstance/data/train', transforms=transforms)\n",
    "dl = DataLoader(data, batch_size=1, shuffle=False, num_workers=0)\n",
    "print('Done')\n",
    "\n"
   ]
  },
  {
   "cell_type": "code",
   "execution_count": 4,
   "metadata": {},
   "outputs": [
    {
     "name": "stderr",
     "output_type": "stream",
     "text": [
      "TiffPage 0: TypeError: read_bytes() missing 3 required positional arguments: 'dtype', 'count', and 'offsetsize'\n"
     ]
    },
    {
     "name": "stdout",
     "output_type": "stream",
     "text": [
      "Loading Val...\n",
      "Done\n"
     ]
    }
   ],
   "source": [
    "print('Loading Val...')\n",
    "transforms = torchvision.transforms.Compose([t.adjust_centroids()])\n",
    "val = src.dataloader.dataset('/media/DataStorage/Dropbox (Partners HealthCare)/HairCellInstance/data/validate', transforms=transforms)\n",
    "val = DataLoader(val, batch_size=1, shuffle=False, num_workers=0)\n",
    "print('Done')"
   ]
  },
  {
   "cell_type": "code",
   "execution_count": 5,
   "metadata": {},
   "outputs": [],
   "source": [
    "lr = 1e-2\n",
    "gamma = 0.985\n",
    "wd = 0\n",
    "#sigma= 0.1 \n",
    "#sigma = lambda e: 0.0231 + 0.075 * 15/(15+e)\n",
    "iterations=5"
   ]
  },
  {
   "cell_type": "code",
   "execution_count": 6,
   "metadata": {},
   "outputs": [],
   "source": [
    "epochs = 500\n",
    "e = -1"
   ]
  },
  {
   "cell_type": "code",
   "execution_count": 7,
   "metadata": {},
   "outputs": [],
   "source": [
    "optimizer = torch.optim.Adam(model.parameters(), lr=lr, weight_decay = wd)\n",
    "scheduler = torch.optim.lr_scheduler.ExponentialLR(optimizer, gamma, last_epoch=-1, verbose=False)\n",
    "loss_fun = src.loss.jaccard_loss()"
   ]
  },
  {
   "cell_type": "code",
   "execution_count": 8,
   "metadata": {},
   "outputs": [],
   "source": [
    "optimizer.weight_decay = wd\n",
    "optimizer.lr = lr"
   ]
  },
  {
   "cell_type": "code",
   "execution_count": 9,
   "metadata": {},
   "outputs": [],
   "source": [
    "writer = SummaryWriter()"
   ]
  },
  {
   "cell_type": "code",
   "execution_count": 10,
   "metadata": {},
   "outputs": [
    {
     "name": "stdout",
     "output_type": "stream",
     "text": [
      "\n"
     ]
    }
   ],
   "source": [
    "model.train()\n",
    "print('')"
   ]
  },
  {
   "cell_type": "code",
   "execution_count": null,
   "metadata": {},
   "outputs": [],
   "source": [
    "while True:\n",
    "    e += 1\n",
    "    epoch_loss = []\n",
    "    for data_dict in dl:\n",
    "        image = data_dict['image']\n",
    "        image = (image - 0.5) / 0.5\n",
    "        mask = data_dict['masks'] > 0.5\n",
    "        centroids = data_dict['centroids']\n",
    "        \n",
    "        optimizer.zero_grad()\n",
    "\n",
    "        out = model(image.cuda(),iterations)\n",
    "        sigma = torch.sigmoid(out[:,-1,...])\n",
    "        out = src.functional.vector_to_embedding(out[:, 0:3:1, ...])\n",
    "        out = src.functional.embedding_to_probability(out, centroids.cuda(), sigma)\n",
    "\n",
    "                                                                                                # This is jank\n",
    "        loss = loss_fun(out, mask.cuda())\n",
    "\n",
    "        loss.backward()\n",
    "        optimizer.step()\n",
    "        \n",
    "        \n",
    "        \n",
    "        epoch_loss.append(loss.detach().cpu().item())\n",
    "        \n",
    "    writer.add_scalar('Loss/train', torch.mean(torch.tensor(epoch_loss)).item(), e)\n",
    "    writer.add_scalar('Hyperparam/lr',scheduler.get_lr()[0],e)\n",
    "    writer.add_scalar('Hyperparam/weight_decay',wd,e)\n",
    "    writer.add_scalar('Hyperparam/iter',iterations,e)\n",
    "    \n",
    "\n",
    "    scheduler.step()\n",
    "    \n",
    "    with torch.no_grad():\n",
    "        val_loss = []\n",
    "        for data_dict in val:\n",
    "            image = data_dict['image']\n",
    "            image = (image - 0.5) / 0.5\n",
    "            mask = data_dict['masks'] > 0.5\n",
    "            centroids = data_dict['centroids']\n",
    "\n",
    "            out = model(image.cuda(),iterations)\n",
    "            sigma = torch.sigmoid(out[:,-1,...])\n",
    "            out = src.functional.vector_to_embedding(out[:, 0:3:1, ...])\n",
    "            out = src.functional.embedding_to_probability(out, centroids.cuda(), sigma)\n",
    "            \n",
    "            loss = loss_fun(out, mask.cuda())\n",
    "            val_loss.append(loss.item())\n",
    "        val_loss = torch.tensor(val_loss).mean()\n",
    "    writer.add_scalar('Loss/validate', val_loss.item(), e)\n",
    "    \n",
    "    del out, loss, image, mask, val_loss\n",
    "    \n"
   ]
  },
  {
   "cell_type": "code",
   "execution_count": null,
   "metadata": {},
   "outputs": [],
   "source": []
  },
  {
   "cell_type": "code",
   "execution_count": null,
   "metadata": {},
   "outputs": [],
   "source": [
    "#####plt.imshow(out.detach().cpu().numpy()[0,[3],:,:,6].transpose((1,2,0)))\n",
    "render, values = out.max(1)\n",
    "\n",
    "plt.imshow(values[0,:,:,15].detach().cpu().numpy())\n",
    "plt.show()\n",
    "\n",
    "values.max()"
   ]
  },
  {
   "cell_type": "code",
   "execution_count": null,
   "metadata": {},
   "outputs": [],
   "source": [
    "save_name = 'Dec3_big_sigma_1.hcnet'\n",
    "torch.save(model.state_dict(), save_name)"
   ]
  },
  {
   "cell_type": "code",
   "execution_count": null,
   "metadata": {},
   "outputs": [],
   "source": [
    "scheduler.get_lr()"
   ]
  },
  {
   "cell_type": "code",
   "execution_count": null,
   "metadata": {},
   "outputs": [],
   "source": [
    "model.eval()\n",
    "with torch.no_grad():\n",
    "    for data_dict in val:\n",
    "        image = data_dict['image']\n",
    "        image = (image - 0.5) / 0.5\n",
    "        mask = data_dict['masks'] > 0.5\n",
    "        centroids = data_dict['centroids']\n",
    "\n",
    "        out = model(image.cuda(), 5)\n",
    "\n",
    "        sigma = torch.sigmoid(out[:,-1,...])\n",
    "        \n",
    "        out = src.functional.vector_to_embedding(out[:, 0:3:1, ...])\n",
    "        out = src.functional.embedding_to_probability(out, centroids.cuda(), sigma)\n",
    "        loss = loss_fun(out, mask.cuda())\n",
    "        \n",
    "        print(loss)\n",
    "        break\n",
    "model.train()\n",
    "print(' ')\n",
    "value, ind = out.max(1)\n",
    "ind[value<0.5]=0\n",
    "#for i in range(render.shape[0]):\n",
    "#    render[i,:,:,:] = binary_dilation(binary_fill_holes(render[i,:,:,:]))\n",
    "ind = ind.cpu().detach().squeeze(0).float().numpy().transpose((2,1,0))\n",
    "io.imsave('bigtest.tif', ind)\n",
    "ind.min()"
   ]
  },
  {
   "cell_type": "code",
   "execution_count": null,
   "metadata": {},
   "outputs": [],
   "source": [
    "value, ind = out.max(1)\n",
    "out = out.cpu()\n",
    "out[out.cpu()<0.5]=0\n",
    "\n",
    "print(ind.shape, mask.shape)\n",
    "loss_fun(mask.cpu(), out.cpu().gt(0).unsqueeze(0)[...,0:-1:1])"
   ]
  },
  {
   "cell_type": "code",
   "execution_count": null,
   "metadata": {},
   "outputs": [],
   "source": [
    "embed.shape\n",
    "plt.figure(figsize=(10,10))\n",
    "plt.plot(embed[0,0,:,:,6].detach().cpu().numpy(), embed[0,1,:,:,6].detach().cpu().numpy(),'k.',alpha=0.01)\n",
    "plt.xlim([0,1])\n",
    "plt.ylim([0,1])\n",
    "plt.show()"
   ]
  },
  {
   "cell_type": "code",
   "execution_count": null,
   "metadata": {},
   "outputs": [],
   "source": []
  },
  {
   "cell_type": "code",
   "execution_count": null,
   "metadata": {},
   "outputs": [],
   "source": [
    "plt.figure(figsize=(10,10))\n",
    "plt.imshow(ind[0,:,:,10])\n",
    "plt.show()"
   ]
  },
  {
   "cell_type": "code",
   "execution_count": null,
   "metadata": {},
   "outputs": [],
   "source": [
    "render = out.argmax(1)"
   ]
  },
  {
   "cell_type": "code",
   "execution_count": null,
   "metadata": {},
   "outputs": [],
   "source": [
    "value, ind = out.max(1)"
   ]
  },
  {
   "cell_type": "code",
   "execution_count": null,
   "metadata": {},
   "outputs": [],
   "source": [
    "ind[value<0.5]=0"
   ]
  },
  {
   "cell_type": "code",
   "execution_count": null,
   "metadata": {},
   "outputs": [],
   "source": [
    "ind.cpu().detach().squeeze(0).numpy().min()"
   ]
  },
  {
   "cell_type": "code",
   "execution_count": null,
   "metadata": {},
   "outputs": [],
   "source": [
    "del ind, value"
   ]
  },
  {
   "cell_type": "code",
   "execution_count": null,
   "metadata": {},
   "outputs": [],
   "source": [
    "plt.plot(embed[0,0,:,:,6].detach().cpu().numpy(), embed[0,1,:,:,6].detach().cpu().numpy(),'k.',alpha=0.002)\n",
    "plt.plot(cent[0,:,0].cpu(), cent[0,:,1].cpu(), 'ro')\n",
    "plt.xlim([0,1])\n",
    "plt.ylim([0,1])\n",
    "plt.show()\n",
    "\n"
   ]
  },
  {
   "cell_type": "code",
   "execution_count": null,
   "metadata": {},
   "outputs": [],
   "source": [
    "%%time\n",
    "model.eval()\n",
    "with torch.no_grad():\n",
    "    for data_dict in val:\n",
    "        image = data_dict['image']\n",
    "        image = (image - 0.5) / 0.5\n",
    "\n",
    "        out = model(image.cuda(), 5)\n",
    "        embed = src.functional.vector_to_embedding(out)\n",
    "        cent = src.functional.estimate_centroids(embed, 0.01, 100)\n",
    "        cent = cent.unsqueeze(0)\n",
    "        cent[:,:,0] *= image.shape[2]\n",
    "        cent[:,:,1] *= image.shape[3]\n",
    "        cent[:,:,2] *= 40\n",
    "        out = src.functional.embedding_to_probability(embed.cpu(), cent.cpu(), torch.tensor([0.0231]))\n",
    "        break\n",
    "        \n",
    "value, ind = out.max(1)\n",
    "ind[value<0.5]=0\n",
    "correction_matrix = binary_dilation(binary_erosion(ind))\n",
    "ind[np.logical_not(binary_dilation)] = 0\n",
    "io.imsave('naieve_test.tif', ind.cpu().detach().squeeze(0).float().numpy().transpose((2,1,0)))\n",
    "ind.min()\n",
    "ind.shape"
   ]
  },
  {
   "cell_type": "code",
   "execution_count": null,
   "metadata": {},
   "outputs": [],
   "source": [
    "ind.shape"
   ]
  },
  {
   "cell_type": "code",
   "execution_count": null,
   "metadata": {},
   "outputs": [],
   "source": [
    "%timeit\n",
    "sigma_list = torch.linspace(0.0, 0.05, 40)\n",
    "losses = []\n",
    "loss_fun = src.loss.jaccard_loss()\n",
    "\n",
    "model.eval()\n",
    "for i, s in enumerate(sigma_list):\n",
    "    with torch.no_grad():\n",
    "        for data_dict in val:\n",
    "            image = data_dict['image']\n",
    "            image = (image - 0.5) / 0.5\n",
    "            mask = data_dict['masks'] > 0.5\n",
    "            centroids = data_dict['centroids']\n",
    "\n",
    "            out = model(image.cuda(), 5)\n",
    "            out = src.functional.vector_to_embedding(out)\n",
    "            embed = out.cpu()\n",
    "            out = src.functional.embedding_to_probability(out, centroids.cuda(), s)\n",
    "            loss = loss_fun(out, mask.cuda())\n",
    "            losses.append(loss.item())\n",
    "            print(s, loss.item())\n",
    "            break\n",
    "        \n",
    "model.train()\n",
    "\n",
    "# plt.plot(sigma_list, losses)\n",
    "# plt.ylabel('Loss')\n",
    "# plt.xlabel('Sigma')\n",
    "# plt.show()\n",
    "# model.train()\n",
    "# print(' ')"
   ]
  },
  {
   "cell_type": "code",
   "execution_count": null,
   "metadata": {},
   "outputs": [],
   "source": [
    "colors = torch.zeros(image.shape)\n",
    "for z in range(image.shape[4]):\n",
    "    print(z)\n",
    "    for x in range(image.shape[2]):\n",
    "        for y in range(image.shape[3]):\n",
    "\n",
    "            if ind[0,x,y,z] == 0:\n",
    "                continue\n",
    "            torch.manual_seed(ind[0,x,y,z])\n",
    "            colors[0,:,x,y,z] = torch.rand(3)"
   ]
  },
  {
   "cell_type": "code",
   "execution_count": null,
   "metadata": {},
   "outputs": [],
   "source": [
    "re = (image[:,[2,1,0],...] + (colors * 0.8))[0,...].numpy().transpose((3,1,2,0))"
   ]
  },
  {
   "cell_type": "code",
   "execution_count": null,
   "metadata": {},
   "outputs": [],
   "source": [
    "colors.shape"
   ]
  },
  {
   "cell_type": "code",
   "execution_count": null,
   "metadata": {},
   "outputs": [],
   "source": [
    "io.imsave('re.tif',re)"
   ]
  },
  {
   "cell_type": "code",
   "execution_count": null,
   "metadata": {},
   "outputs": [],
   "source": []
  }
 ],
 "metadata": {
  "kernelspec": {
   "display_name": "Python 3",
   "language": "python",
   "name": "python3"
  },
  "language_info": {
   "codemirror_mode": {
    "name": "ipython",
    "version": 3
   },
   "file_extension": ".py",
   "mimetype": "text/x-python",
   "name": "python",
   "nbconvert_exporter": "python",
   "pygments_lexer": "ipython3",
   "version": "3.8.5"
  }
 },
 "nbformat": 4,
 "nbformat_minor": 4
}
