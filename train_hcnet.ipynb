{
 "cells": [
  {
   "cell_type": "code",
   "execution_count": 1,
   "metadata": {},
   "outputs": [],
   "source": [
    "import src.dataloader\n",
    "import src.loss\n",
    "import src.transforms as t\n",
    "import src.functional\n",
    "from src.models.HCNet import HCNet\n",
    "from src.models.RDCNet import RDCNet\n",
    "\n",
    "import torch\n",
    "import torch.nn\n",
    "from torch.utils.data import DataLoader\n",
    "\n",
    "import time\n",
    "import numpy as np\n",
    "import matplotlib.pyplot as plt\n",
    "import torchvision.transforms\n",
    "from torch.utils.tensorboard import SummaryWriter\n",
    "from scipy.ndimage.morphology import binary_fill_holes, binary_erosion, binary_dilation\n",
    "import skimage.io as io\n",
    "from importlib import reload  "
   ]
  },
  {
   "cell_type": "code",
   "execution_count": 2,
   "metadata": {},
   "outputs": [
    {
     "data": {
      "text/plain": [
       "<module 'src.transforms' from '/media/DataStorage/Dropbox (Partners HealthCare)/HairCellInstance/src/transforms.py'>"
      ]
     },
     "execution_count": 2,
     "metadata": {},
     "output_type": "execute_result"
    }
   ],
   "source": [
    "reload(src.transforms)"
   ]
  },
  {
   "cell_type": "code",
   "execution_count": 3,
   "metadata": {
    "scrolled": true
   },
   "outputs": [
    {
     "name": "stdout",
     "output_type": "stream",
     "text": [
      "\n"
     ]
    }
   ],
   "source": [
    "model = torch.jit.script(HCNet(in_channels=3, out_channels=4, complexity=10)).cuda()\n",
    "model.train()\n",
    "model.load_state_dict(torch.load('train_Dec13_1.hcnet'))\n",
    "print('')"
   ]
  },
  {
   "cell_type": "code",
   "execution_count": 4,
   "metadata": {},
   "outputs": [
    {
     "name": "stdout",
     "output_type": "stream",
     "text": [
      "Loading Train...\n",
      "Done\n"
     ]
    }
   ],
   "source": [
    "print('Loading Train...')\n",
    "transforms = torchvision.transforms.Compose([\n",
    "    t.nul_crop(),\n",
    "    t.random_crop(shape=(256, 256, 16)),\n",
    "    t.elastic_deformation(grid_shape=(3, 3, 2), scale=1.5),\n",
    "    t.to_cuda(),    \n",
    "    t.adjust_centroids(), \n",
    "    t.random_h_flip(),\n",
    "    t.random_v_flip(),\n",
    "    t.random_affine(shear=(-15, 15)),\n",
    "    t.adjust_brightness(range_brightness = (-0.2, 0.2)),\n",
    "    #t.adjust_gamma(),\n",
    "    t.adjust_centroids(),\n",
    "])\n",
    "data = src.dataloader.dataset('/media/DataStorage/Dropbox (Partners HealthCare)/HairCellInstance/data/train', transforms=transforms)\n",
    "dl = DataLoader(data, batch_size=1, shuffle=False, num_workers=0)\n",
    "print('Done')\n",
    "\n"
   ]
  },
  {
   "cell_type": "code",
   "execution_count": 5,
   "metadata": {},
   "outputs": [
    {
     "data": {
      "text/plain": [
       "15"
      ]
     },
     "execution_count": 5,
     "metadata": {},
     "output_type": "execute_result"
    }
   ],
   "source": [
    "len(data)"
   ]
  },
  {
   "cell_type": "code",
   "execution_count": null,
   "metadata": {},
   "outputs": [],
   "source": [
    "print('Loading Val...')\n",
    "transforms = torchvision.transforms.Compose([t.nul_crop(),\n",
    "                                             t.random_crop(shape=(256, 256, 25)),\n",
    "                                             t.adjust_centroids()])\n",
    "val = src.dataloader.dataset('/media/DataStorage/Dropbox (Partners HealthCare)/HairCellInstance/data/validate', transforms=transforms)\n",
    "val = DataLoader(val, batch_size=1, shuffle=False, num_workers=0)\n",
    "print('Done')"
   ]
  },
  {
   "cell_type": "code",
   "execution_count": null,
   "metadata": {},
   "outputs": [],
   "source": [
    "lr = 2e-3\n",
    "gamma = 0.993\n",
    "wd = .01\n",
    "#sigma= 0.1 \n",
    "#sigma = lambda e: 0.0231 + 0.075 * 15/(15+e)\n",
    "iterations=5"
   ]
  },
  {
   "cell_type": "code",
   "execution_count": null,
   "metadata": {},
   "outputs": [],
   "source": [
    "try:\n",
    "    if e > 0:\n",
    "        pass\n",
    "except:\n",
    "    epochs = 500\n",
    "    e = -1"
   ]
  },
  {
   "cell_type": "code",
   "execution_count": null,
   "metadata": {},
   "outputs": [],
   "source": [
    "optimizer = torch.optim.Adam(model.parameters(), lr=lr, weight_decay = wd)\n",
    "loss_fun = src.loss.tversky_loss()"
   ]
  },
  {
   "cell_type": "code",
   "execution_count": null,
   "metadata": {},
   "outputs": [],
   "source": [
    "optimizer.weight_decay = wd\n",
    "optimizer.lr = lr\n",
    "scheduler = torch.optim.lr_scheduler.ExponentialLR(optimizer, gamma, last_epoch=-1, verbose=False)"
   ]
  },
  {
   "cell_type": "code",
   "execution_count": null,
   "metadata": {},
   "outputs": [],
   "source": [
    "try: \n",
    "    writer\n",
    "    save_file = 'Dec14_1.hcnet'\n",
    "except:\n",
    "    writer = SummaryWriter()\n",
    "    best_train_loss = 2\n",
    "    best_val_loss = 2\n"
   ]
  },
  {
   "cell_type": "code",
   "execution_count": null,
   "metadata": {},
   "outputs": [],
   "source": [
    "model.train()\n",
    "print('')"
   ]
  },
  {
   "cell_type": "code",
   "execution_count": null,
   "metadata": {
    "scrolled": false
   },
   "outputs": [],
   "source": [
    "while True:\n",
    "    e += 1\n",
    "    epoch_loss = []\n",
    "    try:\n",
    "        for data_dict in dl:\n",
    "            image = data_dict['image']\n",
    "            image = (image - 0.5) / 0.5\n",
    "            mask = data_dict['masks'] > 0.5\n",
    "            centroids = data_dict['centroids']\n",
    "\n",
    "            if centroids.shape[1] == 0:\n",
    "                continue\n",
    "\n",
    "            optimizer.zero_grad()\n",
    "\n",
    "            out = model(image.cuda(),iterations)\n",
    "            prob_map = out[:, -1, ...]\n",
    "            sigma = torch.tensor([0.02]).cuda()  #torch.sigmoid(out[:,-3::,...])\n",
    "\n",
    "            out = src.functional.vector_to_embedding(out[:, 0:3:1, ...])\n",
    "            out = src.functional.embedding_to_probability(out, centroids.cuda(), sigma)\n",
    "\n",
    "            loss = loss_fun(out, mask.cuda(), alpha=0.5, beta=0.5) \\\n",
    "                   + loss_fun(out.sum(1).unsqueeze(1), mask.cuda().sum(1).unsqueeze(1))\n",
    "\n",
    "\n",
    "            loss.backward()\n",
    "            optimizer.step()\n",
    "\n",
    "            epoch_loss.append(loss.detach().cpu().item())\n",
    "\n",
    "        writer.add_scalar('Loss/train', torch.mean(torch.tensor(epoch_loss)).item(), e)\n",
    "        writer.add_scalar('Hyperparam/lr',scheduler.get_lr()[0],e)\n",
    "        writer.add_scalar('Hyperparam/weight_decay',wd,e)\n",
    "        writer.add_scalar('Hyperparam/iter',iterations,e)\n",
    "\n",
    "\n",
    "        scheduler.step()\n",
    "        \n",
    "    except:\n",
    "        continue\n",
    "    \n",
    "    with torch.no_grad():\n",
    "        val_loss = []\n",
    "        model.eval()\n",
    "        for data_dict in val:\n",
    "            image = data_dict['image']\n",
    "            image = (image - 0.5) / 0.5\n",
    "            mask = data_dict['masks'] > 0.5\n",
    "            centroids = data_dict['centroids']\n",
    "\n",
    "            out = model(image.cuda(),iterations)\n",
    "            sigma = torch.tensor([0.02]).cuda()  #torch.sigmoid(out[:,-3::,...])\n",
    "            out = src.functional.vector_to_embedding(out[:, 0:3:1, ...])\n",
    "            out = src.functional.embedding_to_probability(out, centroids.cuda(), sigma)\n",
    "            \n",
    "            del sigma\n",
    "            \n",
    "            loss = loss_fun(out, mask.cuda())\n",
    "            val_loss.append(loss.item())\n",
    "        model.train()\n",
    "        val_loss = torch.tensor(val_loss).mean()\n",
    "        \n",
    "    writer.add_scalar('Loss/validate', val_loss.item(), e)\n",
    "\n",
    "    if torch.mean(torch.tensor(epoch_loss)).item() < best_train_loss:\n",
    "        torch.save(model.state_dict(), 'train_' + save_file)\n",
    "        best_train_loss = torch.mean(torch.tensor(epoch_loss)).item()\n",
    "    \n",
    "    elif torch.tensor(val_loss).mean() < best_val_loss:\n",
    "        torch.save(model.state_dict(), 'val_' + save_file)\n",
    "        best_val_loss = torch.mean(torch.tensor(val_loss)).item()\n",
    "\n",
    "    \n"
   ]
  },
  {
   "cell_type": "code",
   "execution_count": null,
   "metadata": {},
   "outputs": [],
   "source": [
    "del  image, mask, out, sigma"
   ]
  },
  {
   "cell_type": "code",
   "execution_count": null,
   "metadata": {},
   "outputs": [],
   "source": [
    "import gc\n",
    "for obj in gc.get_objects():\n",
    "    try:\n",
    "        if torch.is_tensor(obj) or (hasattr(obj, 'data') and torch.is_tensor(obj.data)):\n",
    "            print(type(obj), obj.size(), obj.device)\n",
    "    except:\n",
    "        pass"
   ]
  },
  {
   "cell_type": "code",
   "execution_count": null,
   "metadata": {},
   "outputs": [],
   "source": [
    "centroids.numel()"
   ]
  },
  {
   "cell_type": "code",
   "execution_count": null,
   "metadata": {},
   "outputs": [],
   "source": [
    "#####plt.imshow(out.detach().cpu().numpy()[0,[3],:,:,6].transpose((1,2,0)))\n",
    "render, values = out.max(1)\n",
    "\n",
    "plt.imshow(values[0,:,:,15].detach().cpu().numpy())\n",
    "plt.show()\n",
    "\n",
    "values.max()"
   ]
  },
  {
   "cell_type": "code",
   "execution_count": null,
   "metadata": {},
   "outputs": [],
   "source": [
    "save_name = 'Dec_13_1.hcnet'\n",
    "torch.save(model.state_dict(), save_name)"
   ]
  },
  {
   "cell_type": "code",
   "execution_count": null,
   "metadata": {},
   "outputs": [],
   "source": [
    "scheduler.get_lr()"
   ]
  },
  {
   "cell_type": "code",
   "execution_count": null,
   "metadata": {},
   "outputs": [],
   "source": [
    "model.train()\n",
    "with torch.no_grad():\n",
    "    for data_dict in val:\n",
    "        image = data_dict['image']\n",
    "        image = (image - 0.5) / 0.5\n",
    "        mask = data_dict['masks'] > 0.5\n",
    "        centroids = data_dict['centroids']\n",
    "\n",
    "        out = model(image.cuda(), 5)\n",
    "\n",
    "        sigma = torch.tensor([0.0261]).cuda()\n",
    "        \n",
    "        out = src.functional.vector_to_embedding(out[:, 0:3:1, ...])\n",
    "        out = src.functional.embedding_to_probability(out, centroids.cuda(), sigma)\n",
    "        loss = loss_fun(out, mask.cuda())\n",
    "        \n",
    "        print(loss)\n",
    "        break\n",
    "model.train()\n",
    "print(' ')\n",
    "test = out.clone()\n",
    "for i in range(3):\n",
    "    test[0,i,...][out[0,-1,...] < 0.5] = 0\n",
    "test[test > 0.5] = 1\n",
    "test[test < 0.5] = 0\n",
    "print(loss_fun(test, mask.cuda()))\n",
    "value, ind = out.max(1)\n",
    "ind[value<0.5]=0\n",
    "#for i in range(render.shape[0]):\n",
    "#    render[i,:,:,:] = binary_dilation(binary_fill_holes(render[i,:,:,:]))\n",
    "ind = ind.cpu().detach().squeeze(0).float().numpy().transpose((2,1,0))\n",
    "io.imsave('bigtest.tif', ind)\n",
    "ind.min()"
   ]
  },
  {
   "cell_type": "code",
   "execution_count": null,
   "metadata": {},
   "outputs": [],
   "source": [
    "value, ind = out.max(1)\n",
    "out = out.cpu()\n",
    "out[out.cpu()<0.5]=0\n",
    "\n",
    "print(ind.shape, mask.shape)\n",
    "loss_fun(mask.cpu(), out.cpu().gt(0).unsqueeze(0)[...,0:-1:1])"
   ]
  },
  {
   "cell_type": "code",
   "execution_count": null,
   "metadata": {},
   "outputs": [],
   "source": [
    "embed.shape\n",
    "plt.figure(figsize=(10,10))\n",
    "plt.plot(embed[0,0,:,:,6].detach().cpu().numpy(), embed[0,1,:,:,6].detach().cpu().numpy(),'k.',alpha=0.01)\n",
    "plt.xlim([0,1])\n",
    "plt.ylim([0,1])\n",
    "plt.show()"
   ]
  },
  {
   "cell_type": "code",
   "execution_count": null,
   "metadata": {},
   "outputs": [],
   "source": []
  },
  {
   "cell_type": "code",
   "execution_count": null,
   "metadata": {},
   "outputs": [],
   "source": [
    "plt.figure(figsize=(10,10))\n",
    "plt.imshow(ind[0,:,:,10])\n",
    "plt.show()"
   ]
  },
  {
   "cell_type": "code",
   "execution_count": null,
   "metadata": {},
   "outputs": [],
   "source": [
    "render = out.argmax(1)"
   ]
  },
  {
   "cell_type": "code",
   "execution_count": null,
   "metadata": {},
   "outputs": [],
   "source": [
    "value, ind = out.max(1)"
   ]
  },
  {
   "cell_type": "code",
   "execution_count": null,
   "metadata": {},
   "outputs": [],
   "source": [
    "ind[value<0.5]=0"
   ]
  },
  {
   "cell_type": "code",
   "execution_count": null,
   "metadata": {},
   "outputs": [],
   "source": [
    "ind.cpu().detach().squeeze(0).numpy().min()"
   ]
  },
  {
   "cell_type": "code",
   "execution_count": null,
   "metadata": {},
   "outputs": [],
   "source": [
    "del ind, value"
   ]
  },
  {
   "cell_type": "code",
   "execution_count": null,
   "metadata": {},
   "outputs": [],
   "source": [
    "plt.plot(embed[0,0,:,:,6].detach().cpu().numpy(), embed[0,1,:,:,6].detach().cpu().numpy(),'k.',alpha=0.002)\n",
    "plt.plot(cent[0,:,0].cpu(), cent[0,:,1].cpu(), 'ro')\n",
    "plt.xlim([0,1])\n",
    "plt.ylim([0,1])\n",
    "plt.show()\n",
    "\n"
   ]
  },
  {
   "cell_type": "code",
   "execution_count": null,
   "metadata": {},
   "outputs": [],
   "source": [
    "\n",
    "model.eval()\n",
    "with torch.no_grad():\n",
    "    for data_dict in dl:\n",
    "        image = data_dict['image']\n",
    "        image = (image - 0.5) / 0.5\n",
    "\n",
    "        out = model(image.cuda(), 5)\n",
    "        sigma = torch.tensor([0.0261]) #out[:, -3::, ...]\n",
    "#         for i in range(3):\n",
    "#             out[:,i,...][out[:,-1,...] < 0.25] = -10\n",
    "        out = out[:, 0:3:1, ...]\n",
    "        embed = src.functional.vector_to_embedding(out)\n",
    "\n",
    "            \n",
    "        cent = src.functional.estimate_centroids(embed, 0.01, 100)  # 0.0081, 160 \n",
    "        out = src.functional.embedding_to_probability(embed.cpu(), cent.cpu(), sigma)\n",
    "    \n",
    "    \n",
    "print(cent.shape[1], ' cells predicted')\n",
    "print(out.shape)\n",
    "\n",
    "value, ind = out.max(1)\n",
    "\n",
    "ind[value<0.25]=0\n",
    "correction_matrix = binary_dilation(binary_erosion(ind))\n",
    "ind[np.logical_not(binary_dilation)] = 0\n",
    "io.imsave('naieve_test.tif', ind.cpu().detach().squeeze(0).float().numpy().transpose((2,1,0)))\n",
    "ind.min()\n",
    "ind.shape\n",
    "\n",
    "x = embed.detach().cpu().numpy()[0,0,...].flatten()\n",
    "y = embed.detach().cpu().numpy()[0,1,...].flatten()\n",
    "plt.figure(figsize=(10,10))\n",
    "plt.hist2d(x,y,bins=256, range=((0,.5), (0,0.5)))\n",
    "plt.plot(cent[0,:,0].div(512).detach().cpu().numpy(), cent[0,:,1].div(512).detach().cpu().numpy(), 'ro')\n",
    "plt.plot(data_dict['centroids'][0,:,0].cpu()/512, data_dict['centroids'][0,:,1].cpu()/512, 'bo')\n",
    "plt.show()\n",
    "cent.shape"
   ]
  },
  {
   "cell_type": "code",
   "execution_count": null,
   "metadata": {},
   "outputs": [],
   "source": [
    "x = embed.detach().cpu().numpy()[0,0,...].flatten()\n",
    "y = embed.detach().cpu().numpy()[0,1,...].flatten()\n",
    "sig_x = torch.sigmoid(sigma).detach().cpu()[0,0,...].flatten()\n",
    "sig_y = torch.sigmoid(sigma).detach().cpu()[0,1,...].flatten()\n",
    "ind = torch.logical_and(sig_x>0.005, sig_y>0.005)\n",
    "\n",
    "plt.figure(figsize=(10,10))\n",
    "plt.hist2d(x[ind], y[ind], bins=512, range=((0,0.5),(0,0.5)))\n",
    "\n",
    "plt.plot(cent[0,:,0].div(512).detach().cpu().numpy(), cent[0,:,1].div(512).detach().cpu().numpy(), 'ro')\n",
    "plt.plot(data_dict['centroids'][0,:,0].cpu()/512, data_dict['centroids'][0,:,1].cpu()/512, 'go')\n",
    "plt.show()"
   ]
  },
  {
   "cell_type": "code",
   "execution_count": null,
   "metadata": {},
   "outputs": [],
   "source": [
    "model(image.cuda(), 5)[0,0:3:1,...].max()"
   ]
  },
  {
   "cell_type": "code",
   "execution_count": null,
   "metadata": {
    "scrolled": true
   },
   "outputs": [],
   "source": [
    "cluster = torch.linspace(20, 100, 10)\n",
    "factor = torch.linspace(0.01,0.03,10)\n",
    "for c in cluster:\n",
    "    for f in factor:\n",
    "        cent = src.functional.estimate_centroids(embed, f.item(), c.item())\n",
    "        print(c, f, cent.shape[1], data_dict['centroids'].shape[1])"
   ]
  },
  {
   "cell_type": "code",
   "execution_count": null,
   "metadata": {},
   "outputs": [],
   "source": [
    "%timeit\n",
    "sigma_list = torch.linspace(0.0, 0.05, 40)\n",
    "losses = []\n",
    "loss_fun = src.loss.jaccard_loss()\n",
    "\n",
    "model.eval()\n",
    "with torch.no_grad():\n",
    "    for data_dict in val:\n",
    "\n",
    "        image = data_dict['image']\n",
    "\n",
    "        image = (image - 0.5) / 0.5\n",
    "        mask = data_dict['masks'] > 0.5\n",
    "        centroids = data_dict['centroids']\n",
    "\n",
    "        out = model(image.cuda(), 5)\n",
    "\n",
    "        sigma = torch.sigmoid(out[:, -1, ...])\n",
    "        print(image.shape, out.shape, sigma.shape)\n",
    "        \n",
    "        out = src.functional.vector_to_embedding(out[:, 0:3:1, ...])\n",
    "        embed = out.cpu()\n",
    "        out = src.functional.embedding_to_probability(out, centroids.cuda(), sigma)\n",
    "        loss = loss_fun(out, mask.cuda())\n",
    "        losses.append(loss.item())\n",
    "        print(s, loss.item())\n",
    "        break\n",
    "\n",
    "model.train()\n",
    "\n",
    "# plt.plot(sigma_list, losses)\n",
    "# plt.ylabel('Loss')\n",
    "# plt.xlabel('Sigma')\n",
    "# plt.show()\n",
    "# model.train()\n",
    "# print(' ')"
   ]
  },
  {
   "cell_type": "code",
   "execution_count": null,
   "metadata": {},
   "outputs": [],
   "source": [
    "del out, loss, embed, sigma"
   ]
  },
  {
   "cell_type": "code",
   "execution_count": null,
   "metadata": {
    "scrolled": true
   },
   "outputs": [],
   "source": [
    "colors = torch.zeros(image.shape)\n",
    "for z in range(image.shape[4]):\n",
    "    print(z)\n",
    "    for x in range(image.shape[2]):\n",
    "        for y in range(image.shape[3]):\n",
    "\n",
    "            if ind[0,x,y,z] == 0:\n",
    "                continue\n",
    "            torch.manual_seed(ind[0,x,y,z])\n",
    "            colors[0,:,x,y,z] = torch.rand(3)"
   ]
  },
  {
   "cell_type": "code",
   "execution_count": null,
   "metadata": {},
   "outputs": [],
   "source": [
    "re = (image[:,[2,1,0],...] + (colors * 0.8))[0,...].numpy().transpose((3,1,2,0))"
   ]
  },
  {
   "cell_type": "code",
   "execution_count": null,
   "metadata": {},
   "outputs": [],
   "source": [
    "colors.shape"
   ]
  },
  {
   "cell_type": "code",
   "execution_count": null,
   "metadata": {},
   "outputs": [],
   "source": [
    "io.imsave('re.tif',re)"
   ]
  },
  {
   "cell_type": "code",
   "execution_count": null,
   "metadata": {
    "scrolled": true
   },
   "outputs": [],
   "source": [
    "for _ in range(10):\n",
    "    for data_dict in dl:\n",
    "        mask = data_dict['masks'].squeeze().sum(0).sum(-1)\n",
    "    plt.imshow(mask.cpu().numpy())\n",
    "    plt.show()\n",
    "    print(torch.any(torch.nonzero(mask) == 100))"
   ]
  },
  {
   "cell_type": "code",
   "execution_count": null,
   "metadata": {},
   "outputs": [],
   "source": []
  },
  {
   "cell_type": "code",
   "execution_count": null,
   "metadata": {},
   "outputs": [],
   "source": []
  }
 ],
 "metadata": {
  "kernelspec": {
   "display_name": "Python 3",
   "language": "python",
   "name": "python3"
  },
  "language_info": {
   "codemirror_mode": {
    "name": "ipython",
    "version": 3
   },
   "file_extension": ".py",
   "mimetype": "text/x-python",
   "name": "python",
   "nbconvert_exporter": "python",
   "pygments_lexer": "ipython3",
   "version": "3.8.5"
  }
 },
 "nbformat": 4,
 "nbformat_minor": 4
}
