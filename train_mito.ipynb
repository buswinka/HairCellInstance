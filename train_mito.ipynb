{
 "cells": [
  {
   "cell_type": "code",
   "execution_count": 1,
   "metadata": {},
   "outputs": [],
   "source": [
    "import src.dataloader\n",
    "import src.loss\n",
    "import src.transforms as t\n",
    "import src.functional\n",
    "from src.models.HCNet import HCNet\n",
    "from src.models.RDCNet import RDCNet\n",
    "\n",
    "import torch\n",
    "import torch.nn\n",
    "from torch.utils.data import DataLoader\n",
    "\n",
    "import time\n",
    "import numpy as np\n",
    "import matplotlib.pyplot as plt\n",
    "import torchvision.transforms\n",
    "from torch.utils.tensorboard import SummaryWriter\n",
    "from scipy.ndimage.morphology import binary_fill_holes, binary_erosion, binary_dilation\n",
    "import skimage.io as io\n",
    "from importlib import reload  "
   ]
  },
  {
   "cell_type": "code",
   "execution_count": null,
   "metadata": {},
   "outputs": [],
   "source": [
    "reload(src.dataloader)"
   ]
  },
  {
   "cell_type": "code",
   "execution_count": 10,
   "metadata": {
    "scrolled": true
   },
   "outputs": [
    {
     "name": "stdout",
     "output_type": "stream",
     "text": [
      "\n"
     ]
    }
   ],
   "source": [
    "model = torch.jit.script(HCNet(in_channels=1, out_channels=4, complexity=15)).cuda()\n",
    "model.train()\n",
    "#model.load_state_dict(torch.load('Dec_23_test.hcnet'))\n",
    "#model.load_state_dict(torch.load('Dec_17_REALLY_GOOD.hcnet'))\n",
    "print('')"
   ]
  },
  {
   "cell_type": "code",
   "execution_count": 11,
   "metadata": {},
   "outputs": [
    {
     "name": "stdout",
     "output_type": "stream",
     "text": [
      "Loading Train...\n",
      "Done\n"
     ]
    }
   ],
   "source": [
    "print('Loading Train...')\n",
    "transforms = torchvision.transforms.Compose([\n",
    "    t.nul_crop(rate=1),\n",
    "    t.random_crop(shape=(256, 256, 16)),\n",
    "    #t.elastic_deformation(grid_shape=(3, 3, 2), scale=1.1),\n",
    "    t.colormask_to_mask(),\n",
    "    t.adjust_centroids(),\n",
    "    t.to_cuda(),    \n",
    "    #t.random_h_flip(),\n",
    "    #t.random_v_flip(),\n",
    "    #t.random_affine(shear=(-5, 5), scale=(0.9, 1.5)),\n",
    "    #t.gaussian_blur(rate=0.5),\n",
    "    #t.adjust_brightness(range_brightness = (-0.1, 0.3)),\n",
    "    #t.adjust_centroids(),\n",
    "])\n",
    "data = src.dataloader.em_dataset('/media/DataStorage/Dropbox (Partners HealthCare)/HairCellInstance/data/mito_train/', transforms=transforms, random_ind=True)\n",
    "dl = DataLoader(data, batch_size=1, shuffle=False, num_workers=0)\n",
    "print('Done')\n",
    "\n"
   ]
  },
  {
   "cell_type": "code",
   "execution_count": null,
   "metadata": {},
   "outputs": [],
   "source": [
    "for dd in dl:\n",
    "    print(dd['masks'].shape)\n",
    "\n",
    "val, im = torch.max(dd['masks'], axis=1)\n",
    "\n",
    "plt.imshow(im[0,:,:,8].cpu().numpy())"
   ]
  },
  {
   "cell_type": "code",
   "execution_count": 12,
   "metadata": {},
   "outputs": [],
   "source": [
    "lr = 1e-6\n",
    "gamma = 1\n",
    "wd = .0000001\n",
    "#sigma= 0.1 \n",
    "#sigma = lambda e: 0.0231 + 0.075 * 15/(15+e)\n",
    "iterations=5"
   ]
  },
  {
   "cell_type": "code",
   "execution_count": 13,
   "metadata": {},
   "outputs": [],
   "source": [
    "try:\n",
    "    if e > 0:\n",
    "        pass\n",
    "except:\n",
    "    epochs = 500\n",
    "    e = -1"
   ]
  },
  {
   "cell_type": "code",
   "execution_count": 14,
   "metadata": {},
   "outputs": [],
   "source": [
    "optimizer = torch.optim.Adam(model.parameters(), lr=lr, weight_decay = wd)\n",
    "loss_fun = src.loss.tversky_loss()"
   ]
  },
  {
   "cell_type": "code",
   "execution_count": 15,
   "metadata": {},
   "outputs": [],
   "source": [
    "optimizer.weight_decay = wd\n",
    "optimizer.lr = lr\n",
    "scheduler = torch.optim.lr_scheduler.ExponentialLR(optimizer, gamma, last_epoch=-1, verbose=False)"
   ]
  },
  {
   "cell_type": "code",
   "execution_count": 8,
   "metadata": {},
   "outputs": [],
   "source": [
    "try:\n",
    "    save_file = 'Jan12_1_mito.hcnet'\n",
    "    writer\n",
    "    \n",
    "except:\n",
    "    writer = SummaryWriter()\n",
    "    best_train_loss = 2\n",
    "    best_val_loss = 2\n"
   ]
  },
  {
   "cell_type": "code",
   "execution_count": 16,
   "metadata": {
    "scrolled": false
   },
   "outputs": [
    {
     "name": "stdout",
     "output_type": "stream",
     "text": [
      "tensor(4.0911, device='cuda:0', grad_fn=<MaxBackward1>)\n",
      "tensor(nan, device='cuda:0', grad_fn=<MaxBackward1>)\n",
      "tensor(nan, device='cuda:0', grad_fn=<MaxBackward1>)\n"
     ]
    },
    {
     "ename": "KeyboardInterrupt",
     "evalue": "",
     "output_type": "error",
     "traceback": [
      "\u001b[0;31m---------------------------------------------------------------------------\u001b[0m",
      "\u001b[0;31mKeyboardInterrupt\u001b[0m                         Traceback (most recent call last)",
      "\u001b[0;32m<ipython-input-16-0854a24851b8>\u001b[0m in \u001b[0;36m<module>\u001b[0;34m\u001b[0m\n\u001b[1;32m     34\u001b[0m \u001b[0;34m\u001b[0m\u001b[0m\n\u001b[1;32m     35\u001b[0m \u001b[0;34m\u001b[0m\u001b[0m\n\u001b[0;32m---> 36\u001b[0;31m         \u001b[0mepoch_loss\u001b[0m\u001b[0;34m.\u001b[0m\u001b[0mappend\u001b[0m\u001b[0;34m(\u001b[0m\u001b[0mloss\u001b[0m\u001b[0;34m.\u001b[0m\u001b[0mdetach\u001b[0m\u001b[0;34m(\u001b[0m\u001b[0;34m)\u001b[0m\u001b[0;34m.\u001b[0m\u001b[0mcpu\u001b[0m\u001b[0;34m(\u001b[0m\u001b[0;34m)\u001b[0m\u001b[0;34m.\u001b[0m\u001b[0mitem\u001b[0m\u001b[0;34m(\u001b[0m\u001b[0;34m)\u001b[0m\u001b[0;34m)\u001b[0m\u001b[0;34m\u001b[0m\u001b[0;34m\u001b[0m\u001b[0m\n\u001b[0m\u001b[1;32m     37\u001b[0m \u001b[0;34m\u001b[0m\u001b[0m\n\u001b[1;32m     38\u001b[0m     \u001b[0mwriter\u001b[0m\u001b[0;34m.\u001b[0m\u001b[0madd_scalar\u001b[0m\u001b[0;34m(\u001b[0m\u001b[0;34m'Loss/train'\u001b[0m\u001b[0;34m,\u001b[0m \u001b[0mtorch\u001b[0m\u001b[0;34m.\u001b[0m\u001b[0mmean\u001b[0m\u001b[0;34m(\u001b[0m\u001b[0mtorch\u001b[0m\u001b[0;34m.\u001b[0m\u001b[0mtensor\u001b[0m\u001b[0;34m(\u001b[0m\u001b[0mepoch_loss\u001b[0m\u001b[0;34m)\u001b[0m\u001b[0;34m)\u001b[0m\u001b[0;34m.\u001b[0m\u001b[0mitem\u001b[0m\u001b[0;34m(\u001b[0m\u001b[0;34m)\u001b[0m\u001b[0;34m,\u001b[0m \u001b[0me\u001b[0m\u001b[0;34m)\u001b[0m\u001b[0;34m\u001b[0m\u001b[0;34m\u001b[0m\u001b[0m\n",
      "\u001b[0;31mKeyboardInterrupt\u001b[0m: "
     ]
    }
   ],
   "source": [
    "sigma = torch.tensor([0.01]).cuda()  \n",
    "while True:\n",
    "    e += 1\n",
    "    epoch_loss = []\n",
    "    for data_dict in dl:\n",
    "        image = data_dict['image']\n",
    "\n",
    "        image = (image - 0.5) / 0.5\n",
    "        mask = data_dict['masks'] > 0.5\n",
    "        centroids = data_dict['centroids']\n",
    "        print(centroids.max())\n",
    "        \n",
    "        assert not torch.any(torch.isnan(image))\n",
    "        assert not torch.any(torch.isnan(mask))\n",
    "\n",
    "        if centroids.shape[1] == 0:\n",
    "            continue\n",
    "\n",
    "        optimizer.zero_grad()\n",
    "\n",
    "        out = model(image.cuda(),iterations)\n",
    "        \n",
    "        print(out.max())\n",
    "        \n",
    "        prob_map = torch.sigmoid(out[:, -1, ...]).unsqueeze(1)\n",
    "        out = out[:, 0:3:1, ...]\n",
    "        out = src.functional.vector_to_embedding(out)\n",
    "        out = src.functional.embedding_to_probability(out, centroids.cuda(), sigma)\n",
    "        loss = loss_fun(out, mask.cuda()) \\\n",
    "               + loss_fun(prob_map, mask.cuda().sum(1).unsqueeze(1))\n",
    "\n",
    "\n",
    "        loss.backward()\n",
    "        optimizer.step()\n",
    "        \n",
    "\n",
    "        epoch_loss.append(loss.detach().cpu().item())\n",
    "\n",
    "    writer.add_scalar('Loss/train', torch.mean(torch.tensor(epoch_loss)).item(), e)\n",
    "    writer.add_scalar('Hyperparam/lr',scheduler.get_lr()[0],e)\n",
    "    writer.add_scalar('Hyperparam/weight_decay',wd,e)\n",
    "    writer.add_scalar('Hyperparam/iter',iterations,e)\n",
    "\n",
    "    scheduler.step()\n",
    "    data.step()\n",
    "        \n",
    "\n",
    "    if torch.mean(torch.tensor(epoch_loss)).item() < best_train_loss:\n",
    "        torch.save(model.state_dict(), 'train_' + save_file)\n",
    "        best_train_loss = torch.mean(torch.tensor(epoch_loss)).item()\n"
   ]
  },
  {
   "cell_type": "code",
   "execution_count": null,
   "metadata": {},
   "outputs": [],
   "source": [
    "del  image, mask, out, sigma"
   ]
  },
  {
   "cell_type": "code",
   "execution_count": null,
   "metadata": {},
   "outputs": [],
   "source": [
    "import gc\n",
    "for obj in gc.get_objects():\n",
    "    try:\n",
    "        if torch.is_tensor(obj) or (hasattr(obj, 'data') and torch.is_tensor(obj.data)):\n",
    "            print(type(obj), obj.size(), obj.device)\n",
    "    except:\n",
    "        pass"
   ]
  },
  {
   "cell_type": "code",
   "execution_count": null,
   "metadata": {},
   "outputs": [],
   "source": [
    "centroids.numel()"
   ]
  },
  {
   "cell_type": "code",
   "execution_count": null,
   "metadata": {},
   "outputs": [],
   "source": [
    "#####plt.imshow(out.detach().cpu().numpy()[0,[3],:,:,6].transpose((1,2,0)))\n",
    "render, values = out.max(1)\n",
    "\n",
    "plt.imshow(values[0,:,:,15].detach().cpu().numpy())\n",
    "plt.show()\n",
    "\n",
    "values.max()"
   ]
  },
  {
   "cell_type": "code",
   "execution_count": null,
   "metadata": {},
   "outputs": [],
   "source": [
    "save_name = 'Dec_23_test.hcnet'\n",
    "torch.save(model.state_dict(), save_name)"
   ]
  },
  {
   "cell_type": "code",
   "execution_count": null,
   "metadata": {},
   "outputs": [],
   "source": [
    "model.train()\n",
    "sigma = torch.tensor([0.006]).cuda()  \n",
    "with torch.no_grad():\n",
    "    for data_dict in dl:\n",
    "        image = data_dict['image']\n",
    "        image = (image - 0.5) / 0.5\n",
    "        mask = data_dict['masks'] > 0.5\n",
    "        \n",
    "        centroids = data_dict['centroids']\n",
    "        plt.imshow(data_dict['masks'][0,:,:,:,:].sum(0).sum(-1).cpu())\n",
    "        plt.plot(data_dict['centroids'][0,:,1].cpu(), data_dict['centroids'][0,:,0].cpu(), 'bo')\n",
    "        plt.show()\n",
    "        \n",
    "        out = model(image.cuda(),iterations)\n",
    "        prob_map = torch.sigmoid(out[:, -1, ...]).unsqueeze(1)\n",
    "        out = out[:, 0:3:1, ...]\n",
    "        out = src.functional.vector_to_embedding(out)\n",
    "        out = src.functional.embedding_to_probability(out, centroids.cuda(), sigma)\n",
    "        \n",
    "        plt.imshow(data_dict['masks'][0,:,:,:,:].sum(0).sum(-1).cpu())\n",
    "        plt.plot(data_dict['centroids'][0,:,1].cpu(), data_dict['centroids'][0,:,0].cpu(), 'bo')\n",
    "        plt.show()\n",
    "        \n",
    "        print(loss)\n",
    "        break\n",
    "model.train()\n",
    "print(' ')\n",
    "test = out.clone()\n",
    "\n",
    "print(loss_fun(test, mask.cuda()))\n",
    "\n",
    "value, ind = out.max(1)\n",
    "ind[prob_map[:,0,...] < 0.5]=0\n",
    "#for i in range(render.shape[0]):\n",
    "#    render[i,:,:,:] = binary_dilation(binary_fill_holes(render[i,:,:,:]))\n",
    "ind = ind.cpu().detach().squeeze(0).float().numpy().transpose((2,1,0))\n",
    "io.imsave('bigtest.tif', ind)\n",
    "ind.min()\n",
    "\n",
    "\n",
    "for data_dict in dl:\n",
    "    plt.imshow(data_dict['masks'][0,:,:,:,:].sum(0).sum(-1).cpu())\n",
    "    plt.plot(data_dict['centroids'][0,:,1].cpu(), data_dict['centroids'][0,:,0].cpu(), 'bo')\n",
    "    plt.show()"
   ]
  },
  {
   "cell_type": "markdown",
   "metadata": {},
   "source": [
    "Naieve Test"
   ]
  },
  {
   "cell_type": "code",
   "execution_count": null,
   "metadata": {
    "scrolled": false
   },
   "outputs": [],
   "source": [
    "sigma = torch.tensor([0.016]).cuda()  \n",
    "with torch.no_grad():\n",
    "    image = io.imread('/media/DataStorage/Dropbox (Partners HealthCare)/HairCellInstance/data/test/shit2.tif')\n",
    "    image = torch.from_numpy(image[..., [0, 2, 3]] / 2 ** 16).unsqueeze(0).float()\n",
    "    image = image.transpose(1, 3).transpose(0, -1).squeeze().unsqueeze(0).sub(0.5).div(0.5).cuda()\n",
    "\n",
    "\n",
    "    out = model(image.cuda(), 5)\n",
    "    prob_map = torch.sigmoid(out[:, -1, ...]).unsqueeze(1)\n",
    "    out = out[:, 0:3:1, ...]\n",
    "    embed = src.functional.vector_to_embedding(out)\n",
    "    #for i in range(3):\n",
    "    #    embed[:,i,...][prob_map.squeeze(0) < 0.5] = -10\n",
    "    centroids = src.functional.estimate_centroids(embed, 0.004, 40)\n",
    "    embed = src.functional.vector_to_embedding(out)\n",
    "    out = src.functional.embedding_to_probability(embed, centroids.cuda(), sigma)\n",
    "\n",
    "        \n",
    "        \n",
    "model.train()\n",
    "value, ind = out.max(1)\n",
    "ind[prob_map[:,0,...] < 0.75]=0\n",
    "\n",
    "x = embed.detach().cpu().numpy()[0,0,...].flatten()\n",
    "y = embed.detach().cpu().numpy()[0,1,...].flatten()\n",
    "plt.figure(figsize=(10,10))\n",
    "plt.hist2d(x,y,bins=512, range=((0,1), (0,1)))\n",
    "plt.plot(centroids[0,:,0].detach().cpu().numpy(), centroids[0,:,1].detach().cpu().numpy(), 'ro')\n",
    "# plt.plot(data_dict['centroids'][0,:,0].cpu(), data_dict['centroids'][0,:,1].cpu(), 'bo', alpha=0.5)\n",
    "plt.show()\n",
    "\n",
    "print(image.shape)\n",
    "plt.imshow(image[0,:,:,:,7].mul(0.5).add(0.5).cpu().numpy().transpose((1,2,0)))\n",
    "plt.show()\n",
    "\n",
    "print(centroids.shape[1], ' cells predicted')\n",
    "print(prob_map.max())\n",
    "\n",
    "value, ind = out.max(1)\n",
    "ind[value < 0.2] = 0\n",
    "ind[prob_map.squeeze(1)<0.5]=0\n",
    "# correction_matrix = binary_dilation(binary_erosion(ind))\n",
    "# ind[np.logical_not(binary_dilation)] = 0\n",
    "io.imsave('naieve_test.tif', ind.cpu().detach().squeeze(0).float().numpy().transpose((2,1,0)))\n",
    "ind.min()\n",
    "ind.shape\n",
    "\n"
   ]
  },
  {
   "cell_type": "code",
   "execution_count": null,
   "metadata": {},
   "outputs": [],
   "source": [
    "prob_map = prob_map > 0.5"
   ]
  },
  {
   "cell_type": "code",
   "execution_count": null,
   "metadata": {},
   "outputs": [],
   "source": [
    "plt.imshow(prob_map.squeeze(0).squeeze(0).sum(-1).cpu().numpy())"
   ]
  },
  {
   "cell_type": "code",
   "execution_count": null,
   "metadata": {},
   "outputs": [],
   "source": []
  }
 ],
 "metadata": {
  "kernelspec": {
   "display_name": "Python 3",
   "language": "python",
   "name": "python3"
  },
  "language_info": {
   "codemirror_mode": {
    "name": "ipython",
    "version": 3
   },
   "file_extension": ".py",
   "mimetype": "text/x-python",
   "name": "python",
   "nbconvert_exporter": "python",
   "pygments_lexer": "ipython3",
   "version": "3.8.5"
  }
 },
 "nbformat": 4,
 "nbformat_minor": 4
}
